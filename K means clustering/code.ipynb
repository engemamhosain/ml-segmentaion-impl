{
 "cells": [
  {
   "cell_type": "code",
   "execution_count": 1,
   "metadata": {},
   "outputs": [
    {
     "name": "stderr",
     "output_type": "stream",
     "text": [
      "2024-09-16 20:52:38.436079: I tensorflow/core/platform/cpu_feature_guard.cc:210] This TensorFlow binary is optimized to use available CPU instructions in performance-critical operations.\n",
      "To enable the following instructions: SSE3 SSE4.1 SSE4.2 AVX AVX2 FMA, in other operations, rebuild TensorFlow with the appropriate compiler flags.\n"
     ]
    }
   ],
   "source": [
    "import cv2\n",
    "import cv2 as cv\n",
    "import numpy as np\n",
    "from matplotlib import pyplot as plt\n",
    "from PIL import Image\n",
    "# import tensorflow as tf\n",
    "from tensorflow import keras as K\n",
    "import skimage\n",
    "from skimage.io import imshow, imread, imsave\n",
    "from glob import glob\n",
    "import os"
   ]
  },
  {
   "cell_type": "code",
   "execution_count": 2,
   "metadata": {},
   "outputs": [],
   "source": [
    "# import pkg_resources\n",
    "\n",
    "# for dist in pkg_resources.working_set:\n",
    "#     if 'numpy' in dist.requires():\n",
    "#         print(dist.project_name)"
   ]
  },
  {
   "cell_type": "code",
   "execution_count": 3,
   "metadata": {},
   "outputs": [],
   "source": [
    "in_dir = '../dataset/Original'\n",
    "out_dir = './clustered'\n",
    "\n",
    "# read the input image file names with paths into a list\n",
    "infiles = in_dir + '/*'\n",
    "img_names = glob(infiles)\n",
    "# print(img_names)"
   ]
  },
  {
   "cell_type": "code",
   "execution_count": 4,
   "metadata": {},
   "outputs": [],
   "source": [
    "K=3\n",
    "attempts=10\n",
    "\n",
    "for item in img_names:\n",
    "    # print('processing %s...' % item)\n",
    "\n",
    "    img = cv2.imread(item)\n",
    "    img2 = img.reshape((-1,3))\n",
    "    img2=np.float32(img2)\n",
    "    criteria = (cv2.TERM_CRITERIA_EPS + cv2.TERM_CRITERIA_MAX_ITER, 10, 1.0)\n",
    "    ret,label,center=cv2.kmeans(img2,K,None,criteria,attempts,cv2.KMEANS_PP_CENTERS)\n",
    "    center=np.uint8(center)\n",
    "    res = center[label.flatten()]\n",
    "    res2 = res.reshape((img.shape))\n",
    "\n",
    "\n",
    "    # write the result to disk in the previously created output directory\n",
    "    name = os.path.basename(item)\n",
    "    outfile = out_dir + '/' + name\n",
    "    cv2.imwrite(outfile, res2)"
   ]
  },
  {
   "cell_type": "code",
   "execution_count": 5,
   "metadata": {},
   "outputs": [],
   "source": [
    "in_dir = './clustered'\n",
    "out_dir = './predicted_mask'\n",
    "\n",
    "# read the input image file names with paths into a list\n",
    "infiles = in_dir + '/*'\n",
    "img_names = glob(infiles)\n",
    "# print(img_names)"
   ]
  },
  {
   "cell_type": "code",
   "execution_count": 6,
   "metadata": {},
   "outputs": [],
   "source": [
    "for item in img_names:\n",
    "    # print('processing %s...' % item)\n",
    "\n",
    "    # read an input image as gray\n",
    "    im_gray = cv2.imread(item,0)\n",
    "    \n",
    "    #blur = cv2.GaussianBlur(im_gray,(5,5),0)\n",
    "\n",
    "    # threshold it with your saved threshold\n",
    "    try:\n",
    "        im_bw = cv2.threshold(im_gray, 0, 255, cv2.THRESH_BINARY_INV + cv2.THRESH_OTSU)[1]\n",
    "    except Exception as e:\n",
    "        print(f\"An error occurred: {e}\")\n",
    "\n",
    "    # write the result to disk in the previously created output directory\n",
    "    name = os.path.basename(item)\n",
    "    outfile = out_dir + '/' + name\n",
    "    cv2.imwrite(outfile, im_bw)"
   ]
  },
  {
   "cell_type": "code",
   "execution_count": 7,
   "metadata": {},
   "outputs": [],
   "source": [
    "def calculate_dice_coefficient(mask1, mask2, file1, file2):\n",
    "    # Flatten the masks to 1D arrays\n",
    "    mask1 = mask1.flatten()\n",
    "    mask2 = mask2.flatten()\n",
    "    \n",
    "    # Calculate intersection and sizes of the masks\n",
    "    if(mask1.shape != mask2.shape):\n",
    "        print(f\"Shape mismatch for {file1}, {file2}: original_mask shape {mask1.shape}, kmeans_mask shape {mask2.shape}\")\n",
    "    intersection = np.sum((mask1 == 255) & (mask2 == 255))  # White pixels in both masks\n",
    "    dice_coeff = (2.0 * intersection) / (np.sum(mask1 == 255) + np.sum(mask2 == 255))\n",
    "    \n",
    "    return dice_coeff, intersection, np.sum(mask1 == 255) + np.sum(mask2 == 255)\n",
    "\n",
    "def calculate_jaccard_index(mask1, mask2):\n",
    "    # Flatten the masks to 1D arrays\n",
    "    mask1 = mask1.flatten()\n",
    "    mask2 = mask2.flatten()\n",
    "    \n",
    "    # Calculate intersection and union\n",
    "    intersection = np.sum((mask1 == 255) & (mask2 == 255))  # White pixels in both masks\n",
    "    union = np.sum((mask1 == 255) | (mask2 == 255))         # White pixels in either mask\n",
    "    \n",
    "    jaccard_index = intersection / union\n",
    "    \n",
    "    return jaccard_index, intersection, union"
   ]
  },
  {
   "cell_type": "code",
   "execution_count": 8,
   "metadata": {},
   "outputs": [
    {
     "name": "stdout",
     "output_type": "stream",
     "text": [
      "Average Dice Coefficient for all images: 0.9338\n",
      "Average Jaccard Index for all images: 0.8792\n"
     ]
    }
   ],
   "source": [
    "# Paths to the folders containing the masks\n",
    "original_mask_dir = '../dataset/Mask'\n",
    "kmeans_mask_dir = 'predicted_mask'\n",
    "\n",
    "\n",
    "original_mask_files = sorted(glob(os.path.join(original_mask_dir, '*')))\n",
    "kmeans_mask_files = sorted(glob(os.path.join(kmeans_mask_dir, '*')))\n",
    "\n",
    "dice_scores = []\n",
    "jaccard_scores = []\n",
    "\n",
    "for original_mask_file, kmeans_mask_file in zip(original_mask_files, kmeans_mask_files):\n",
    "    original_mask = cv2.imread(original_mask_file, 0)  # Read as grayscale\n",
    "    kmeans_mask = cv2.imread(kmeans_mask_file, 0)      # Read as grayscale\n",
    "    \n",
    "    # # Ensure the masks are binary (0 or 255)\n",
    "    # _, original_mask = cv2.threshold(original_mask, 127, 255, cv2.THRESH_BINARY)\n",
    "    # _, kmeans_mask = cv2.threshold(kmeans_mask, 127, 255, cv2.THRESH_BINARY)\n",
    "    \n",
    "    # Calculate Dice Coefficient and Jaccard Index for the current image\n",
    "    dice, intersection_dice, union_dice = calculate_dice_coefficient(original_mask, kmeans_mask, original_mask_file, kmeans_mask_file)\n",
    "    jaccard, intersection_jaccard, union_jaccard = calculate_jaccard_index(original_mask, kmeans_mask)\n",
    "    \n",
    "    # Append scores for averaging approach\n",
    "    dice_scores.append(dice)\n",
    "    jaccard_scores.append(jaccard)\n",
    "    \n",
    "    # Accumulate values for combined approach\n",
    "    # total_intersection_dice += intersection_dice\n",
    "    # total_union_dice += union_dice\n",
    "    # total_intersection_jaccard += intersection_jaccard\n",
    "    # total_union_jaccard += union_jaccard\n",
    "\n",
    "# Average Dice and Jaccard\n",
    "avg_dice = np.mean(dice_scores)\n",
    "avg_jaccard = np.mean(jaccard_scores)\n",
    "\n",
    "# Combined Dice and Jaccard\n",
    "# combined_dice = (2.0 * total_intersection_dice) / total_union_dice\n",
    "# combined_jaccard = total_intersection_jaccard / total_union_jaccard\n",
    "\n",
    "print(f'Average Dice Coefficient for all images: {avg_dice:.4f}')\n",
    "print(f'Average Jaccard Index for all images: {avg_jaccard:.4f}')\n",
    "\n",
    "# print(f'Combined Dice Coefficient for all images: {combined_dice:.4f}')\n",
    "# print(f'Combined Jaccard Index for all images: {combined_jaccard:.4f}')"
   ]
  },
  {
   "cell_type": "code",
   "execution_count": null,
   "metadata": {},
   "outputs": [],
   "source": []
  }
 ],
 "metadata": {
  "kernelspec": {
   "display_name": "Python 3",
   "language": "python",
   "name": "python3"
  },
  "language_info": {
   "codemirror_mode": {
    "name": "ipython",
    "version": 3
   },
   "file_extension": ".py",
   "mimetype": "text/x-python",
   "name": "python",
   "nbconvert_exporter": "python",
   "pygments_lexer": "ipython3",
   "version": "3.12.6"
  }
 },
 "nbformat": 4,
 "nbformat_minor": 4
}
